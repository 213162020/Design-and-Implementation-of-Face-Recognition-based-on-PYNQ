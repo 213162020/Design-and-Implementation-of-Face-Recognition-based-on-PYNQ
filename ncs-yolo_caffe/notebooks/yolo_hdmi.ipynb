{
 "cells": [
  {
   "cell_type": "code",
   "execution_count": 1,
   "metadata": {},
   "outputs": [
    {
     "data": {
      "application/javascript": [
       "\n",
       "require(['notebook/js/codecell'], function(codecell) {\n",
       "  codecell.CodeCell.options_default.highlight_modes[\n",
       "      'magic_text/x-csrc'] = {'reg':[/^%%microblaze/]};\n",
       "  Jupyter.notebook.events.one('kernel_ready.Kernel', function(){\n",
       "      Jupyter.notebook.get_cells().map(function(cell){\n",
       "          if (cell.cell_type == 'code'){ cell.auto_highlight(); } }) ;\n",
       "  });\n",
       "});\n"
      ]
     },
     "metadata": {},
     "output_type": "display_data"
    }
   ],
   "source": [
    "from mvnc import mvncapi as mvnc\n",
    "import cv2\n",
    "import numpy as np\n",
    "import time\n",
    "from pynq.overlays.base import BaseOverlay\n",
    "from pynq.lib.video import *\n",
    "import yolo_ncs,ncs\n",
    "\n",
    "# Load the base overlay\n",
    "base = BaseOverlay(\"base.bit\")"
   ]
  },
  {
   "cell_type": "code",
   "execution_count": 2,
   "metadata": {},
   "outputs": [
    {
     "data": {
      "text/plain": [
       "<contextlib._GeneratorContextManager at 0x29151ed0>"
      ]
     },
     "execution_count": 2,
     "metadata": {},
     "output_type": "execute_result"
    }
   ],
   "source": [
    "hdmi_in = base.video.hdmi_in\n",
    "hdmi_out = base.video.hdmi_out\n",
    "\n",
    "# Configure the HDMI output to the same resolution as the HDMI input\n",
    "hdmi_in.configure(PIXEL_RGB)\n",
    "hdmi_out.configure(hdmi_in.mode, PIXEL_RGB)\n",
    "\n",
    "# Start the HDMI interfaces\n",
    "hdmi_in.start()\n",
    "hdmi_out.start()"
   ]
  },
  {
   "cell_type": "code",
   "execution_count": 3,
   "metadata": {},
   "outputs": [
    {
     "name": "stdout",
     "output_type": "stream",
     "text": [
      "Graph file loaded to Movidius NCS\n"
     ]
    }
   ],
   "source": [
    "# Open the Movidius NCS device\n",
    "ncsdev = ncs.MovidiusNCS()\n",
    "\n",
    "# Load the graph file\n",
    "if ncsdev.load_graph('../models/graph'):\n",
    "    print('Graph file loaded to Movidius NCS')"
   ]
  },
  {
   "cell_type": "code",
   "execution_count": 4,
   "metadata": {},
   "outputs": [],
   "source": [
    "# The input frame width and height\n",
    "frame_in_width = hdmi_in.mode.width\n",
    "frame_in_height = hdmi_in.mode.height\n",
    "\n",
    "# The frame width and height required by the YOLO network\n",
    "yolo_width = 448\n",
    "yolo_height = 448\n",
    "\n",
    "# The subframe indicies to cut-out for the YOLO network (the middle of the input frame)\n",
    "frame_top = (frame_in_height-yolo_height)//2\n",
    "frame_bot = frame_in_height-frame_top\n",
    "frame_left = (frame_in_width-yolo_width)//2\n",
    "frame_right = frame_in_width-frame_left"
   ]
  },
  {
   "cell_type": "code",
   "execution_count": null,
   "metadata": {},
   "outputs": [],
   "source": [
    "while True:\n",
    "    # Get a frame from HDMI input\n",
    "    frame = hdmi_in.readframe()\n",
    "    \n",
    "    # Cut out a sub-frame for NCS (448x448) and divide all RGB values by 255\n",
    "    small_frame = frame[frame_top:frame_bot,frame_left:frame_right,:]\n",
    "    ncs_frame = small_frame.copy()/255.0\n",
    "\n",
    "    # Send the frame to the NCS\n",
    "    ncsdev.graph.LoadTensor(ncs_frame.astype(np.float16), 'user object')\n",
    "    out, userobj = ncsdev.graph.GetResult()\n",
    "    \n",
    "    # Interpret results and draw the boxes on the image\n",
    "    results = yolo_ncs.interpret_output(out.astype(np.float32), small_frame.shape[1], small_frame.shape[0]) # fc27 instead of fc12 for yolo_small\n",
    "    img_res = yolo_ncs.draw_boxes(small_frame, results, small_frame.shape[1], small_frame.shape[0])\n",
    "\n",
    "    # Copy labelled image into output frame\n",
    "    frame_out = hdmi_out.newframe()\n",
    "    frame_out[frame_top:frame_bot,frame_left:frame_right,:] = img_res[:,:,:]\n",
    "    hdmi_out.writeframe(frame_out)"
   ]
  }
 ],
 "metadata": {
  "kernelspec": {
   "display_name": "Python 3",
   "language": "python",
   "name": "python3"
  },
  "language_info": {
   "codemirror_mode": {
    "name": "ipython",
    "version": 3
   },
   "file_extension": ".py",
   "mimetype": "text/x-python",
   "name": "python",
   "nbconvert_exporter": "python",
   "pygments_lexer": "ipython3",
   "version": "3.6.0"
  }
 },
 "nbformat": 4,
 "nbformat_minor": 2
}
